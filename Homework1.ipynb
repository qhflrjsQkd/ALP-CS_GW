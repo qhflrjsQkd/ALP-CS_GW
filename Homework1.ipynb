{
  "cells": [
    {
      "cell_type": "markdown",
      "metadata": {
        "id": "view-in-github",
        "colab_type": "text"
      },
      "source": [
        "<a href=\"https://colab.research.google.com/github/qhflrjsQkd/ALP-CS_GW/blob/main/GeonWoo's_Homework1.ipynb\" target=\"_parent\"><img src=\"https://colab.research.google.com/assets/colab-badge.svg\" alt=\"Open In Colab\"/></a>"
      ]
    },
    {
      "cell_type": "code",
      "execution_count": null,
      "metadata": {
        "colab": {
          "base_uri": "https://localhost:8080/"
        },
        "id": "iMk5qWchzVoV",
        "outputId": "f2a46f32-e956-4089-b3fb-96fcb3689a5e"
      },
      "outputs": [
        {
          "output_type": "stream",
          "name": "stdout",
          "text": [
            "What is your name? af\n",
            "Hello af\n",
            "\n",
            "What is favorite color? asd\n",
            "your favorite color is asd\n",
            "\n",
            "What is favorite food? rthe\n",
            "your favorite food is rthe\n",
            "\n",
            "What is favorite weather? cvxb\n",
            "your favorite color is cvxb\n",
            "\n",
            "af's favorite color is asd, favorite food is rthe, and favorite weather is rthe.\n"
          ]
        }
      ],
      "source": [
        "a = input('What is your name? ')\n",
        "print('Hello '+a)\n",
        "b = input('\\nWhat is favorite color? ')\n",
        "print('your favorite color is '+b)\n",
        "c = input('\\nWhat is favorite food? ')\n",
        "print('your favorite food is '+c)\n",
        "d = input('\\nWhat is favorite weather? ')\n",
        "print('your favorite color is '+d)\n",
        "print('\\n'+a+\"'s favorite color is \"+b+\", favorite food is \"+c+\", and favorite weather is \"+c+'.')"
      ]
    },
    {
      "cell_type": "code",
      "source": [
        "a = int(input('width: '))\n",
        "b = int(input('length: '))\n",
        "print('area: '+str(a*b))\n",
        "print('perimeter: '+str(2*(a+b)))"
      ],
      "metadata": {
        "colab": {
          "base_uri": "https://localhost:8080/"
        },
        "id": "dBbFR67MkThc",
        "outputId": "62d4b09b-058f-4d30-db97-7aac4355955e"
      },
      "execution_count": null,
      "outputs": [
        {
          "output_type": "stream",
          "name": "stdout",
          "text": [
            "width: 12\n",
            "length: 4\n",
            "area: 48\n",
            "perimeter: 32\n"
          ]
        }
      ]
    },
    {
      "cell_type": "code",
      "source": [
        "a = int(input('price of meal: '))\n",
        "print('tip: '+str(a*0.2))\n",
        "print('total price: '+str(a*1.2))"
      ],
      "metadata": {
        "colab": {
          "base_uri": "https://localhost:8080/"
        },
        "id": "H8LbF80LmTTE",
        "outputId": "ea5c78a4-99dc-423c-b090-54ac83b1b6db"
      },
      "execution_count": null,
      "outputs": [
        {
          "output_type": "stream",
          "name": "stdout",
          "text": [
            "price of meal: 12\n",
            "tip: 2.4000000000000004\n",
            "total price: 14.399999999999999\n"
          ]
        }
      ]
    },
    {
      "cell_type": "code",
      "source": [
        "a = int(input('width: '))\n",
        "b = int(input('length: '))\n",
        "c = int(input('heigth: '))\n",
        "print('area: '+str(a*b*c))"
      ],
      "metadata": {
        "id": "FHYP-o_Nl3O_"
      },
      "execution_count": null,
      "outputs": []
    },
    {
      "cell_type": "code",
      "source": [
        "password = 1337\n",
        "if password == int(input('Write Password: ')):\n",
        "  print('Password correct')\n",
        "else:\n",
        "  print('Password incorrect')"
      ],
      "metadata": {
        "colab": {
          "base_uri": "https://localhost:8080/"
        },
        "id": "-21kapPdvcyI",
        "outputId": "c6726be0-169e-4d9d-9e50-ba58c822a835"
      },
      "execution_count": null,
      "outputs": [
        {
          "output_type": "stream",
          "name": "stdout",
          "text": [
            "Write Password: 1337\n",
            "Password correct\n"
          ]
        }
      ]
    },
    {
      "cell_type": "code",
      "source": [
        "a = int(input('number one: '))\n",
        "b = int(input('number two: '))\n",
        "print(max(a,b))\n",
        "if a > b: print(a)\n",
        "else: print(b)"
      ],
      "metadata": {
        "colab": {
          "base_uri": "https://localhost:8080/"
        },
        "id": "qlGFd6CXwNQi",
        "outputId": "2c20f8f2-2526-4ed6-9357-96d86c6013f8"
      },
      "execution_count": null,
      "outputs": [
        {
          "output_type": "stream",
          "name": "stdout",
          "text": [
            "number one: 12\n",
            "number two: 423\n",
            "423\n",
            "423\n"
          ]
        }
      ]
    },
    {
      "cell_type": "code",
      "source": [
        "a = input('What is your name? ')\n",
        "b = input('What is your subject? ')\n",
        "if b == 'math': print('Hi '+a+', go to room 201')\n",
        "elif b == 'computing': print('Hi '+a+', go to room 401')\n",
        "elif b == 'physics': print('Hi '+a+', go to room 301')\n",
        "else: print('Sorry '+a+\", I don't know which room that class is in\")"
      ],
      "metadata": {
        "colab": {
          "base_uri": "https://localhost:8080/"
        },
        "id": "DCqNnrAb6sdR",
        "outputId": "c8dd4f9f-0470-4342-8110-e6746f01f0ba"
      },
      "execution_count": null,
      "outputs": [
        {
          "output_type": "stream",
          "name": "stdout",
          "text": [
            "What is your name? wqrewd\n",
            "What is your subject? physics\n",
            "Hi wqrewd, go to room 301\n"
          ]
        }
      ]
    },
    {
      "cell_type": "code",
      "source": [
        "a = input('What is your name? ')\n",
        "b = input('What is your number(1~5)? ')\n",
        "if b == '1': print('Hi '+a+', (Some kind of harsh swear word)')\n",
        "elif b == '2': print('Hi '+a+', (A swear word that makes me cry when I hear it)')\n",
        "elif b == '3': print('Hi '+a+', (roughly insulting words)')\n",
        "elif b == '4': print('Hi '+a+', (nickname you hate the most)')\n",
        "elif b == '5': print('Hi '+a+', (Words too terrible to say)')\n",
        "else: print(a+', are you sure??')"
      ],
      "metadata": {
        "colab": {
          "base_uri": "https://localhost:8080/"
        },
        "id": "CDhKQzCg942U",
        "outputId": "2b7fd58e-054a-404e-c76f-80fe121301f1"
      },
      "execution_count": null,
      "outputs": [
        {
          "output_type": "stream",
          "name": "stdout",
          "text": [
            "What is your name? ㅁㅇ\n",
            "What is your number(1~5)? 2\n",
            "Hi ㅁㅇ, (A swear word that makes me cry when I hear it)\n"
          ]
        }
      ]
    },
    {
      "cell_type": "code",
      "source": [
        "a = int(input('number: '))\n",
        "i = 0\n",
        "while a != i:\n",
        "  i+=1\n",
        "  print(i**3, end=\" \")\n",
        "#for i in range(1,int(input('number: '))+1): print(i**3, end=\" \")"
      ],
      "metadata": {
        "colab": {
          "base_uri": "https://localhost:8080/"
        },
        "id": "LraI3GwYEJRx",
        "outputId": "51fd98df-e805-429b-a319-854263cdc9b2"
      },
      "execution_count": null,
      "outputs": [
        {
          "output_type": "stream",
          "name": "stdout",
          "text": [
            "number: 10\n",
            "1 8 27 64 125 216 343 512 729 1000 "
          ]
        }
      ]
    }
  ],
  "metadata": {
    "colab": {
      "provenance": [],
      "authorship_tag": "ABX9TyPYUqrphserqoLEcRn9wyVx",
      "include_colab_link": true
    },
    "kernelspec": {
      "display_name": "Python 3",
      "name": "python3"
    },
    "language_info": {
      "name": "python"
    }
  },
  "nbformat": 4,
  "nbformat_minor": 0
}
