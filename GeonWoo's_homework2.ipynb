{
  "cells": [
    {
      "cell_type": "markdown",
      "metadata": {
        "id": "view-in-github",
        "colab_type": "text"
      },
      "source": [
        "<a href=\"https://colab.research.google.com/github/qhflrjsQkd/ALP-CS_GW/blob/main/GeonWoo's_homework2.ipynb\" target=\"_parent\"><img src=\"https://colab.research.google.com/assets/colab-badge.svg\" alt=\"Open In Colab\"/></a>"
      ]
    },
    {
      "cell_type": "code",
      "execution_count": null,
      "metadata": {
        "colab": {
          "base_uri": "https://localhost:8080/"
        },
        "id": "iMk5qWchzVoV",
        "outputId": "73cd6817-fcc0-4b98-df75-89de09c84da9"
      },
      "outputs": [
        {
          "name": "stdout",
          "output_type": "stream",
          "text": [
            "enter your password: 1324\n",
            "enter your password again: arfesgd\n",
            "password incorrect\n",
            "enter your password again: kuyjhgbf\n",
            "password incorrect\n",
            "enter your password again: wqe\n",
            "password incorrect\n",
            "enter your password again: zvc \n",
            "password incorrect\n",
            "enter your password again: 1324\n",
            "password correct\n"
          ]
        }
      ],
      "source": [
        "password = input('enter your password: ')\n",
        "while password != input('enter your password again: '): print('password incorrect')\n",
        "print('password correct')"
      ]
    },
    {
      "cell_type": "code",
      "execution_count": null,
      "metadata": {
        "colab": {
          "base_uri": "https://localhost:8080/"
        },
        "id": "runIWWwB98CJ",
        "outputId": "b3c60627-9ce3-41f6-8ade-237947c867ec"
      },
      "outputs": [
        {
          "name": "stdout",
          "output_type": "stream",
          "text": [
            "['apple', 'banana', 'grape', 'melon', 'orange', 'grape']\n",
            "enter fruit number: 2\n",
            "grape\n"
          ]
        }
      ],
      "source": [
        "fruit = ['apple', 'banana', 'grape', 'melon', 'orange', 'grape']\n",
        "print(fruit)\n",
        "print(fruit[int(input('enter fruit number: '))])"
      ]
    },
    {
      "cell_type": "code",
      "execution_count": null,
      "metadata": {
        "colab": {
          "base_uri": "https://localhost:8080/"
        },
        "id": "E2zrWl0E_pJ8",
        "outputId": "9df786b7-c68a-4700-8440-7411e49e87d8"
      },
      "outputs": [
        {
          "name": "stdout",
          "output_type": "stream",
          "text": [
            "you meet zombie!\n",
            "chooce the number:\n",
            "1:chooce the weapon in list\n",
            "2:chooce your own weapon\n",
            ": 2\n",
            "chooce the weapon: rnhg\n",
            "you lose...\n"
          ]
        }
      ],
      "source": [
        "ZW = ['shotgun', 'axe']\n",
        "W = ['axe', 'xbow', 'knife', 'knuckle']\n",
        "print('you meet zombie!')\n",
        "if input('chooce the number:\\n1:chooce the weapon in list\\n2:chooce your own weapon\\n: ') == '1':\n",
        "  print(W)\n",
        "  a=input('chooce the weapon: ')\n",
        "  if a in ZW and a in W: print('you win!')\n",
        "  else: print('you lose...')\n",
        "else:\n",
        "  a=input('chooce the weapon: ')\n",
        "  W.append(a)\n",
        "  if a in ZW and a in W: print('you win!')\n",
        "  else: print('you lose...')"
      ]
    },
    {
      "cell_type": "code",
      "execution_count": null,
      "metadata": {
        "colab": {
          "base_uri": "https://localhost:8080/"
        },
        "id": "FMsI_O8mK2Qm",
        "outputId": "9d7c54d7-5c7e-431f-f41d-936419795649"
      },
      "outputs": [
        {
          "name": "stdout",
          "output_type": "stream",
          "text": [
            "1: add\n",
            "2:sub\n",
            "3: mul\n",
            "4: div\n",
            "4\n",
            "enter first number: 3\n",
            "enter second number: 8\n",
            "0.375\n"
          ]
        }
      ],
      "source": [
        "def add(a,b):\n",
        "  return(a+b)\n",
        "def sub(a,b):\n",
        "  return(a-b)\n",
        "def mul(a,b):\n",
        "  return(a*b)\n",
        "def div(a,b):\n",
        "  return(a/b)\n",
        "c = int(input('1: add\\n2: sub\\n3: mul\\n4: div\\n'))\n",
        "a = int(input('enter first number: '))\n",
        "b = int(input('enter second number: '))\n",
        "\n",
        "if c==1: print(add(a,b))\n",
        "elif c==2: print(sub(a,b))\n",
        "elif c==3: print(mul(a,b))\n",
        "elif c==4: print(div(a,b))"
      ]
    },
    {
      "cell_type": "code",
      "execution_count": null,
      "metadata": {
        "colab": {
          "base_uri": "https://localhost:8080/"
        },
        "id": "SCwpW4zbO-OE",
        "outputId": "d9fd04e6-e2fc-4db1-b787-4d17610d2b15"
      },
      "outputs": [
        {
          "output_type": "stream",
          "name": "stdout",
          "text": [
            "enter the expression(all symbols must be separated by spaces) : 2 + 3\n",
            "= 5.0\n"
          ]
        }
      ],
      "source": [
        "class ArrayStack:\n",
        "  def __init__(self):\n",
        "      self._data = [ ]\n",
        "  def __len__(self):\n",
        "      return len(self._data)\n",
        "  def is_empty(self):\n",
        "      if len(self) == 0: return True\n",
        "      return False\n",
        "  def push(self, x):\n",
        "      self._data.append(x)\n",
        "  def pop(self):\n",
        "      if len(self) == 0: return None\n",
        "      return self._data.pop()\n",
        "  def top(self):\n",
        "      if len(self) == 0: return None\n",
        "      return self._data[-1]\n",
        "def postfix(a):\n",
        "    I = a.split()\n",
        "    t = 0\n",
        "    P = []\n",
        "    S = ArrayStack()\n",
        "    d = {'(':0,'+':1,'-':1,'*':2,'/':2,'**':3} #Symbols and Priorities\n",
        "    for i in I:\n",
        "        try: b = float(i)\n",
        "        except ValueError:\n",
        "            if i == '(':\n",
        "                if t == 1: raise\n",
        "                S.push(i)\n",
        "            elif i == ')':\n",
        "                if t == 0: raise\n",
        "                while S.top() != '(':\n",
        "                    if S.is_empty(): raise\n",
        "                    P.append(S.pop())\n",
        "                S.pop()\n",
        "            else:\n",
        "                if t == 0 or i not in d: raise\n",
        "                t = 0\n",
        "                while not S.is_empty() and d[S.top()] >= d[i]:\n",
        "                    P.append(S.pop())\n",
        "                S.push(i)\n",
        "        else:\n",
        "            if t == 1: raise\n",
        "            t = 1\n",
        "            P.append(b)\n",
        "    if t == 0: raise\n",
        "    while not S.is_empty():\n",
        "        if S.top() == '(': raise\n",
        "        P.append(S.pop())\n",
        "    return P\n",
        "\n",
        "def Calculate(a):\n",
        "    try:\n",
        "        A = postfix(a)\n",
        "        #print(A)\n",
        "    except: return 'error: wrong expression'\n",
        "    S = ArrayStack()\n",
        "    for i in A:\n",
        "        if type(i) == float:\n",
        "            S.push(i)\n",
        "        else:\n",
        "            if i == '+':\n",
        "                b = S.pop()\n",
        "                S.push(S.pop() + b)\n",
        "            if i == '-':\n",
        "                b = S.pop()\n",
        "                S.push(S.pop() - b)\n",
        "            if i == '*':\n",
        "                b = S.pop()\n",
        "                S.push(S.pop() * b)\n",
        "            if i == '/':\n",
        "                b = S.pop()\n",
        "                if b == 0: return 'error: division by zero'\n",
        "                S.push(S.pop() / b)\n",
        "            if i == '**':\n",
        "                b = S.pop()\n",
        "                S.push(S.pop() ** b)\n",
        "    return S.pop()\n",
        "\n",
        "\n",
        "print('= '+str(Calculate(input('enter the expression(all symbols must be separated by spaces): '))))"
      ]
    },
    {
      "cell_type": "code",
      "source": [
        "f = open(\"text.txt\",'w')\n",
        "f.write('data')\n",
        "f.close()"
      ],
      "metadata": {
        "id": "No5CpM42r7FG"
      },
      "execution_count": null,
      "outputs": []
    }
  ],
  "metadata": {
    "colab": {
      "provenance": [],
      "authorship_tag": "ABX9TyPZZG+4mwbfBTDNomSmppdB",
      "include_colab_link": true
    },
    "kernelspec": {
      "display_name": "Python 3",
      "name": "python3"
    },
    "language_info": {
      "name": "python"
    }
  },
  "nbformat": 4,
  "nbformat_minor": 0
}