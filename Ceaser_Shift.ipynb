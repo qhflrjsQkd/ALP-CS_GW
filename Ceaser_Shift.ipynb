{
  "nbformat": 4,
  "nbformat_minor": 0,
  "metadata": {
    "colab": {
      "provenance": [],
      "include_colab_link": true
    },
    "kernelspec": {
      "name": "python3",
      "display_name": "Python 3"
    },
    "language_info": {
      "name": "python"
    }
  },
  "cells": [
    {
      "cell_type": "markdown",
      "metadata": {
        "id": "view-in-github",
        "colab_type": "text"
      },
      "source": [
        "<a href=\"https://colab.research.google.com/github/qhflrjsQkd/ALP-CS_GW/blob/main/Ceaser_Shift.ipynb\" target=\"_parent\"><img src=\"https://colab.research.google.com/assets/colab-badge.svg\" alt=\"Open In Colab\"/></a>"
      ]
    },
    {
      "cell_type": "markdown",
      "source": [
        "#Ceaser Shift\n",
        "\n",
        "This is a simple cipher read more [here](https://en.wikipedia.org/wiki/Caesar_cipher). Find out how the cipher works and then try to code it.\n",
        "\n",
        "Below you will find a simple version of the code. It is not as sophisticated as it has a lot of limitations but try to give it a go and solve it.\n",
        "\n",
        "Find out what the mod does in python."
      ],
      "metadata": {
        "id": "11Mf7GhuTuEY"
      }
    },
    {
      "cell_type": "code",
      "source": [
        "# Try putting % between two numbers. Can you figure out what operation does the % symbol reponsible for?\n",
        "#E.g.\n",
        "print(3%5)\n"
      ],
      "metadata": {
        "colab": {
          "base_uri": "https://localhost:8080/"
        },
        "id": "T_vmEKNUWdwv",
        "outputId": "09cfef05-19a8-48c7-f60b-c55da5bfbcc8"
      },
      "execution_count": null,
      "outputs": [
        {
          "output_type": "stream",
          "name": "stdout",
          "text": [
            "3\n"
          ]
        }
      ]
    },
    {
      "cell_type": "code",
      "execution_count": 19,
      "metadata": {
        "id": "mphIKssQTrhx"
      },
      "outputs": [],
      "source": [
        "alpha = \"A'BCD:E2FGHI9JKLMNO[P3QRS/TUV]WX0YZ \"\n",
        "\n",
        "def caesar_encode(text, n):\n",
        "    answerList = []\n",
        "    for letter in text:\n",
        "        ind = alpha.index(letter)\n",
        "        ind += n\n",
        "        ind %= len(alpha)\n",
        "        answerList.append(alpha[ind])\n",
        "    return \"\".join(answerList)\n",
        "\n",
        "def caesar_decode(text, n):\n",
        "    answerList = []\n",
        "    for letter in text:\n",
        "        ind = alpha.index(letter)\n",
        "        ind -= n-len(alpha)\n",
        "        ind %= len(alpha)\n",
        "        answerList.append(alpha[ind])\n",
        "    return \"\".join(answerList)\n",
        "\n",
        "test = \"HELLO WORLD\"\n",
        "shift = 5\n",
        "\n",
        "\n"
      ]
    },
    {
      "cell_type": "markdown",
      "source": [
        "##Encode"
      ],
      "metadata": {
        "id": "e7iqfr1vUjHo"
      }
    },
    {
      "cell_type": "code",
      "source": [
        "enc = caesar_encode(test, shift)\n",
        "print(enc)"
      ],
      "metadata": {
        "colab": {
          "base_uri": "https://localhost:8080/"
        },
        "id": "xUgikMWaUN5N",
        "outputId": "e53615da-f630-4aab-994a-17447d7222ac"
      },
      "execution_count": 20,
      "outputs": [
        {
          "output_type": "stream",
          "name": "stdout",
          "text": [
            "LIPPRD RVPG\n"
          ]
        }
      ]
    },
    {
      "cell_type": "markdown",
      "source": [
        "##Decode\n",
        "\n",
        "complete the missing code."
      ],
      "metadata": {
        "id": "gflev3gAUeDI"
      }
    },
    {
      "cell_type": "code",
      "source": [
        "\n",
        "dec = caesar_decode(enc, shift)\n",
        "print(dec)"
      ],
      "metadata": {
        "colab": {
          "base_uri": "https://localhost:8080/"
        },
        "id": "GcRnbg3EUdQa",
        "outputId": "0719749d-13fa-49d0-aa34-09502df752e7"
      },
      "execution_count": 21,
      "outputs": [
        {
          "output_type": "stream",
          "name": "stdout",
          "text": [
            "HELLO WORLD\n"
          ]
        }
      ]
    },
    {
      "cell_type": "code",
      "source": [],
      "metadata": {
        "id": "Hbs6jWU-U0ry"
      },
      "execution_count": null,
      "outputs": []
    },
    {
      "cell_type": "markdown",
      "source": [
        "1. Make a version of the Cipher where you involve the user to encode and decode. You can make use of the input command.\n",
        "2. What if you wanted the cipher to include spaces and numbers? How would you change it? Try it.\n",
        "3. Can you make this into a sub routine?"
      ],
      "metadata": {
        "id": "3cXWwMu6XEBw"
      }
    },
    {
      "cell_type": "code",
      "source": [
        "def caesar():\n",
        "  a = input('1: encode\\n2: decode\\n')\n",
        "  if a == '1': print(caesar_encode(input('enter test: '),int(input('enter shift number: '))))\n",
        "  elif a == '2': print(caesar_decode(input('enter test: '),int(input('enter shift number: '))))\n",
        "\n",
        "caesar()"
      ],
      "metadata": {
        "id": "WyT7h4qaXyHg",
        "colab": {
          "base_uri": "https://localhost:8080/"
        },
        "outputId": "7a4c9b49-0369-43c2-93c4-b83ee03617fe"
      },
      "execution_count": 22,
      "outputs": [
        {
          "output_type": "stream",
          "name": "stdout",
          "text": [
            "1: encode\n",
            "2: decode\n",
            "1\n",
            "enter test: GFDFMHGYURT\n",
            "enter shift number: 10\n",
            "[OKOTP[2'YA\n"
          ]
        }
      ]
    }
  ]
}